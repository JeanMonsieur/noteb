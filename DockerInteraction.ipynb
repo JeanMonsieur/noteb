{
 "cells": [
  {
   "cell_type": "code",
   "execution_count": 1,
   "metadata": {},
   "outputs": [
    {
     "data": {
      "text/html": [
       "Installing package Docker.DotNet........................................done!"
      ]
     },
     "metadata": {},
     "output_type": "display_data"
    },
    {
     "data": {
      "text/html": [
       "Successfully added reference to package Docker.DotNet, version 3.125.2"
      ]
     },
     "metadata": {},
     "output_type": "display_data"
    },
    {
     "data": {
      "text/html": [
       "Installing package Npgsql.................done!"
      ]
     },
     "metadata": {},
     "output_type": "display_data"
    },
    {
     "data": {
      "text/html": [
       "Successfully added reference to package Npgsql, version 4.1.1"
      ]
     },
     "metadata": {},
     "output_type": "display_data"
    }
   ],
   "source": [
    "#r \"nuget:Docker.DotNet\"\n",
    "#r \"nuget:Npgsql\"\n",
    "\n",
    "using Docker.DotNet;\n",
    "using Docker.DotNet.Models;\n",
    "using Npgsql;\n",
    "using System.Threading;\n",
    "using System.Threading.Tasks;\n",
    "using System.Data.Common;"
   ]
  },
  {
   "cell_type": "code",
   "execution_count": 2,
   "metadata": {},
   "outputs": [],
   "source": [
    "private async Task<(CreateContainerResponse, string)> GetContainer(DockerClient client, string image, string tag)\n",
    "{\n",
    "    var hostPort = new Random((int)DateTime.UtcNow.Ticks).Next(10000, 12000);\n",
    "    //look for image\n",
    "    var images = await client.Images.ListImagesAsync(new ImagesListParameters()\n",
    "    {\n",
    "        MatchName = $\"{image}:{tag}\",\n",
    "    }, CancellationToken.None);\n",
    "\n",
    "    //check if container exists\n",
    "    var pgImage = images.FirstOrDefault();\n",
    "    if (pgImage == null)\n",
    "        throw new Exception($\"Docker image for {image}:{tag} not found.\");\n",
    "\n",
    "    //create container from image\n",
    "    var container = await client.Containers.CreateContainerAsync(new CreateContainerParameters()\n",
    "    {\n",
    "        User = \"postgres\",\n",
    "        Env = new List<string>()\n",
    "        {\n",
    "            \"POSTGRES_PASSWORD=password\",\n",
    "            \"POSTGRES_DB=repotest\",\n",
    "            \"POSTGRES_USER=postgres\"\n",
    "        },\n",
    "        ExposedPorts = new Dictionary<string, EmptyStruct>()\n",
    "        {\n",
    "            [\"5432\"] = new EmptyStruct()\n",
    "        },\n",
    "        HostConfig = new HostConfig()\n",
    "        {\n",
    "            PortBindings = new Dictionary<string, IList<PortBinding>>()\n",
    "            {\n",
    "                [\"5432\"] = new List<PortBinding>()\n",
    "                    {new PortBinding() {HostIP = \"0.0.0.0\", HostPort = $\"{hostPort}\"}}\n",
    "            }\n",
    "        },\n",
    "        Image = $\"{image}:{tag}\",\n",
    "    }, CancellationToken.None);\n",
    "\n",
    "    if (!await client.Containers.StartContainerAsync(container.ID, new ContainerStartParameters()\n",
    "    {\n",
    "        DetachKeys = $\"d={image}\"\n",
    "    }, CancellationToken.None))\n",
    "    {\n",
    "        throw new Exception($\"Could not start container: {container.ID}\");\n",
    "    }\n",
    "\n",
    "    var count = 10;\n",
    "    Thread.Sleep(5000);\n",
    "    var containerStat = await client.Containers.InspectContainerAsync(container.ID, CancellationToken.None);\n",
    "    while (!containerStat.State.Running && count-- > 0)\n",
    "    {\n",
    "        Thread.Sleep(1000);\n",
    "        containerStat = await client.Containers.InspectContainerAsync(container.ID, CancellationToken.None);\n",
    "\n",
    "    }\n",
    "    Thread.Sleep(10000); //I need some time for the DB to finish starting up so that my tests don't report the DB is starting up\n",
    "    return (container, $\"{hostPort}\");\n",
    "}"
   ]
  },
  {
   "cell_type": "code",
   "execution_count": 3,
   "metadata": {},
   "outputs": [],
   "source": [
    "DbConnection Db;\n",
    "DockerClient _client;\n",
    "CreateContainerResponse _containerResponse;\n",
    "\n",
    "_client = new DockerClientConfiguration(new Uri(\"npipe://./pipe/docker_engine\")).CreateClient();\n",
    "\n"
   ]
  },
  {
   "cell_type": "code",
   "execution_count": 4,
   "metadata": {},
   "outputs": [],
   "source": [
    "//var (containerRespose, port) = await GetContainer(_client, \"postgres\", \"latest\");\n",
    "//_containerResponse = containerRespose;"
   ]
  },
  {
   "cell_type": "code",
   "execution_count": 5,
   "metadata": {},
   "outputs": [],
   "source": [
    "var hostPort = new Random((int)DateTime.UtcNow.Ticks).Next(10000, 12000);\n",
    "\n",
    "var images = await _client.Images.ListImagesAsync(new ImagesListParameters()\n",
    "    {\n",
    "    MatchName = \"postgres:latest\",\n",
    "    }, CancellationToken.None);\n",
    "\n",
    "//check if container exists\n",
    "    var pgImage = images.FirstOrDefault();\n",
    "    if (pgImage == null)\n",
    "        throw new Exception($\"Docker image for postgres:latest not found.\");\n",
    "\n",
    "    //create container from image\n",
    "    var container = await _client.Containers.CreateContainerAsync(new CreateContainerParameters()\n",
    "    {\n",
    "        User = \"postgres\",\n",
    "        Env = new List<string>()\n",
    "        {\n",
    "            \"POSTGRES_PASSWORD=password\",\n",
    "            \"POSTGRES_DB=repotest\",\n",
    "            \"POSTGRES_USER=postgres\"\n",
    "        },\n",
    "        ExposedPorts = new Dictionary<string, EmptyStruct>()\n",
    "        {\n",
    "            [\"5432\"] = new EmptyStruct()\n",
    "        },\n",
    "        HostConfig = new HostConfig()\n",
    "        {\n",
    "            PortBindings = new Dictionary<string, IList<PortBinding>>()\n",
    "            {\n",
    "                [\"5432\"] = new List<PortBinding>()\n",
    "                    {new PortBinding() {HostIP = \"0.0.0.0\", HostPort = $\"{hostPort}\"}}\n",
    "            }\n",
    "        },\n",
    "        Image = \"postgres:latest\",\n",
    "    }, CancellationToken.None);\n",
    "    \n",
    "    if (!await _client.Containers.StartContainerAsync(container.ID, new ContainerStartParameters()\n",
    "    {\n",
    "        DetachKeys = \"d=postgres\"\n",
    "    }, CancellationToken.None))\n",
    "    {\n",
    "        throw new Exception($\"Could not start container: {container.ID}\");\n",
    "    }\n",
    "\n",
    "    var count = 10;\n",
    "    Thread.Sleep(5000);\n",
    "    var containerStat = await _client.Containers.InspectContainerAsync(container.ID, CancellationToken.None);\n",
    "    while (!containerStat.State.Running && count-- > 0)\n",
    "    {\n",
    "        Thread.Sleep(1000);\n",
    "        containerStat = await _client.Containers.InspectContainerAsync(container.ID, CancellationToken.None);\n",
    "\n",
    "    }\n",
    "    Thread.Sleep(10000); //I need some time for the DB to finish starting up so that my tests don't report the DB is starting up\n"
   ]
  },
  {
   "cell_type": "code",
   "execution_count": 6,
   "metadata": {},
   "outputs": [
    {
     "data": {
      "text/plain": [
       "True"
      ]
     },
     "execution_count": 6,
     "metadata": {},
     "output_type": "execute_result"
    }
   ],
   "source": [
    "var connectionStringBuilder = new NpgsqlConnectionStringBuilder() { ConnectionString = $\"User ID=postgres;Password=password;Server=127.0.0.1;Port={hostPort};Database=repotest;Integrated Security=true;Pooling=false;CommandTimeout=300\" };\n",
    "Db = new NpgsqlConnection(connectionStringBuilder.ConnectionString);\n",
    "Db.Open();\n",
    "\n",
    "return String.Equals(\"repotest\", Db.Database);\n",
    "\n",
    "Db.Close(); \n",
    "Db.Dispose();\n",
    "//stop container\n",
    "if (await _client.Containers.StopContainerAsync(_containerResponse.ID, new ContainerStopParameters(), CancellationToken.None))\n",
    "{\n",
    "    //delete container\n",
    "    await _client.Containers.RemoveContainerAsync(_containerResponse.ID, new ContainerRemoveParameters(), CancellationToken.None);\n",
    "}\n",
    "\n",
    "_client?.Dispose();"
   ]
  }
 ],
 "metadata": {
  "kernelspec": {
   "display_name": ".NET (C#)",
   "language": "C#",
   "name": ".net-csharp"
  },
  "language_info": {
   "file_extension": ".cs",
   "mimetype": "text/x-csharp",
   "name": "C#",
   "pygments_lexer": "csharp",
   "version": "8.0"
  }
 },
 "nbformat": 4,
 "nbformat_minor": 2
}
