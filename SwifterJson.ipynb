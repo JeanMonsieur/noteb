{
 "cells": [
  {
   "cell_type": "code",
   "execution_count": 2,
   "metadata": {},
   "outputs": [
    {
     "data": {
      "text/html": [
       "Installing package Swifter.Json...done!"
      ]
     },
     "metadata": {},
     "output_type": "display_data"
    },
    {
     "data": {
      "text/html": [
       "Successfully added reference to package Swifter.Json, version 1.2.9.6"
      ]
     },
     "metadata": {},
     "output_type": "display_data"
    }
   ],
   "source": [
    "#r \"nuget:Swifter.Json\"\n",
    "\n",
    "using Swifter; \n",
    "using Swifter.Json; \n",
    "using System.Runtime.Serialization;\n",
    "using System.Collections.Generic;\n",
    "using System.Collections.ObjectModel;"
   ]
  },
  {
   "cell_type": "code",
   "execution_count": 10,
   "metadata": {},
   "outputs": [
    {
     "name": "stdout",
     "output_type": "stream",
     "text": [
      "{\"Name\":\"ddd\",\"Parent\":null,\"Value\":5,\"Weight\":54.2}\n",
      "[{\"Name\":\"ddd\",\"Parent\":null,\"Value\":5,\"Weight\":54.2}]\n",
      "Name: ddd\n",
      "\tValue: 5\n",
      "\tWeight: 54.2\n",
      "\n"
     ]
    }
   ],
   "source": [
    "public class Item \n",
    "{\n",
    "    \n",
    "    public string Name {get;set;}\n",
    "    public int Value {get;set;}\n",
    "    public double Weight {get;set;}\n",
    "    [IgnoreDataMember]\n",
    "    public ItemCollection Parent {get;set;}\n",
    "    \n",
    "    public override string ToString()\n",
    "    {\n",
    "        return $\"Name: {Name}\\n\\tValue: {Value}\\n\\tWeight: {Weight}\\n\";\n",
    "    }\n",
    "}\n",
    "\n",
    "public class ItemCollection : KeyedCollection<string, Item>\n",
    "{\n",
    "    protected override string GetKeyForItem(Item item) { return item.Name; }\n",
    "}\n",
    "\n",
    "var first = new Item() {Name = \"ddd\", Value = 5, Weight = 54.2}; \n",
    "\n",
    "Console.WriteLine( JsonFormatter.SerializeObject(first)); \n",
    "\n",
    "var Col = new ItemCollection(); \n",
    "Col.Add(first);\n",
    "\n",
    "Console.WriteLine( JsonFormatter.SerializeObject(Col));\n",
    "\n",
    "var ColDes =  JsonFormatter.DeserializeObject<ItemCollection>(JsonFormatter.SerializeObject(Col));\n",
    "\n",
    "Console.WriteLine(ColDes[\"ddd\"].ToString());"
   ]
  },
  {
   "cell_type": "code",
   "execution_count": null,
   "metadata": {},
   "outputs": [],
   "source": []
  }
 ],
 "metadata": {
  "kernelspec": {
   "display_name": ".NET (C#)",
   "language": "C#",
   "name": ".net-csharp"
  },
  "language_info": {
   "file_extension": ".cs",
   "mimetype": "text/x-csharp",
   "name": "C#",
   "pygments_lexer": "csharp",
   "version": "8.0"
  }
 },
 "nbformat": 4,
 "nbformat_minor": 2
}
