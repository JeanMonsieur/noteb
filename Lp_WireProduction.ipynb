{
 "cells": [
  {
   "cell_type": "code",
   "execution_count": 1,
   "metadata": {},
   "outputs": [
    {
     "data": {
      "text/html": [
       "Installing package Google.OrTools................done!"
      ]
     },
     "metadata": {},
     "output_type": "display_data"
    },
    {
     "data": {
      "text/html": [
       "Successfully added reference to package Google.OrTools, version 7.4.7247"
      ]
     },
     "metadata": {},
     "output_type": "display_data"
    }
   ],
   "source": [
    "#r \"nuget:Google.OrTools\"\n",
    "\n",
    "using Google.OrTools.LinearSolver;\n",
    "using System.Linq; "
   ]
  },
  {
   "cell_type": "code",
   "execution_count": 2,
   "metadata": {},
   "outputs": [],
   "source": [
    "//We prepare a function to call the solver solve. Code reuse!\n",
    "public static void SolveAndPrint(this Solver solver)\n",
    "{\n",
    "    var resultStatus = solver.Solve();\n",
    "\n",
    "    // Check that the problem has an optimal solution.\n",
    "    if (resultStatus != Solver.ResultStatus.OPTIMAL)\n",
    "    {\n",
    "        Console.WriteLine(\"The problem does not have an optimal solution!\");\n",
    "        return;\n",
    "    }\n",
    "\n",
    "    Console.WriteLine(\"Problem solved in \" + solver.WallTime() + \" milliseconds\");\n",
    "\n",
    "    // The objective value of the solution.\n",
    "    Console.WriteLine(\"Optimal objective value = \" + solver.Objective().Value());\n",
    "\n",
    "    display(solver.variables().Select(a => new { Name  = a.Name(), Value = a.SolutionValue() }));\n",
    "}"
   ]
  },
  {
   "cell_type": "markdown",
   "metadata": {},
   "source": [
    "# Applications of linear programming"
   ]
  },
  {
   "cell_type": "markdown",
   "metadata": {},
   "source": [
    "## Wire production\n",
    "\n",
    "A plant makes aluminium and copper wires. Each Kg of aluminium wire requires 10 kWh of electricity and $\\frac{1}{2}$ hour of labour. Each Kg of Copper wire requires 4 kWh of electricity and $1$ hour of labour. Total weight delivered to the plant daily is limited to 56 Kg. Electricity is limited to 450 kWh/day, labour is limited to 42.5 hours/day at a cost of 11 € an hour, Electricity cost is 20 € / MWh, Aluminium cost is 1.8 €/Kg, Copper cost is 5.4 €/Kg.  Aluminium wire sales price is 45 €/Kg, Copper wire sales price is 50 €/Kg. \n",
    "\n",
    "What should be produced to maximise profit and what is the maximum profit? \n",
    "\n",
    "We want to setup the objective function first and we will need variables for the weight of aluminium $Al$ and copper $Cu$ used in the plant, $El$ is electricity, $La$ is labour. All the ${}_{Purchase}$ and ${}_{Sale}$ are the direct values given in the problem definition."
   ]
  },
  {
   "cell_type": "markdown",
   "metadata": {},
   "source": [
    "$$\\text{Obj:} \\max ( Al * (Al_{Sale} - Al_{Purchase}) + Cu * (Cu_{Sale} - Cu_{Purchase}) - El_{Purchase} (\\frac{1}{100} * Al + \\frac{4}{1000} * Cu) - La_{Purchase}(\\frac{1}{2} * Al + 1 * Cu) )$$"
   ]
  },
  {
   "cell_type": "markdown",
   "metadata": {},
   "source": [
    "Now we want to setup the various constraints that the problem is subject to:\n",
    "\n",
    "Electricity usage limit:\n",
    "\n",
    "$$10 * Al + 4 * Cu \\leq 450$$\n",
    "\n",
    "Labour usage limit:\n",
    "\n",
    "$$\\frac{1}{2} * Al + 1 * Cu \\leq 42.5$$\n",
    "\n",
    "Weight limits: \n",
    "\n",
    "$$Al + Cu \\leq 56$$\n",
    "\n",
    "In the following block, the problem is definde for the solver:"
   ]
  },
  {
   "cell_type": "code",
   "execution_count": 3,
   "metadata": {},
   "outputs": [
    {
     "name": "stdout",
     "output_type": "stream",
     "text": [
      "Problem solved in 4 milliseconds\n",
      "Optimal objective value = 2027,0333333333333\n"
     ]
    },
    {
     "data": {
      "text/html": [
       "<table><thead><tr><th><i>index</i></th><th>Name</th><th>Value</th></tr></thead><tbody><tr><td>0</td><td>Al</td><td>37.666666666666664</td></tr><tr><td>1</td><td>Cu</td><td>18.333333333333336</td></tr></tbody></table>"
      ]
     },
     "metadata": {},
     "output_type": "display_data"
    }
   ],
   "source": [
    "Solver solver = Solver.CreateSolver(\"LinearProgramming\", \"CLP_LINEAR_PROGRAMMING\");\n",
    "\n",
    "//Setting up the variables and constants of the problem \n",
    "Variable Al = solver.MakeNumVar(0.0, double.PositiveInfinity, \"Al\");\n",
    "Variable Cu = solver.MakeNumVar(0.0, double.PositiveInfinity, \"Cu\");\n",
    "double El_Price = 20.0; double El_Max = 450; \n",
    "double La_Price = 11.0; double La_Max = 42.5; \n",
    "double Weight_Max = 56.0; \n",
    "double Al_Purchase = 1.8 ; double Al_Sale = 45.0;\n",
    "double Cu_Purchase = 5.4; double Cu_Sale = 50.0;\n",
    "\n",
    "// Maximize revenue \n",
    "Objective objective = solver.Objective();\n",
    "objective.SetCoefficient(Al, Al_Sale-Al_Purchase-(La_Price * 1/2.0)-(El_Price * 10/1000.0));\n",
    "objective.SetCoefficient(Cu, Cu_Sale-Cu_Purchase-(La_Price * 1)-(El_Price * 4/1000.0));\n",
    "objective.SetMaximization();\n",
    "\n",
    "// Electricity usage limit\n",
    "Constraint c0 = solver.MakeConstraint(0, El_Max);\n",
    "c0.SetCoefficient(Al, 10);\n",
    "c0.SetCoefficient(Cu, 4);\n",
    "\n",
    "// Labour usage limit\n",
    "Constraint c1 = solver.MakeConstraint(0, La_Max);\n",
    "c1.SetCoefficient(Al, 1/2.0);\n",
    "c1.SetCoefficient(Cu, 1);\n",
    "\n",
    "// Weight limit\n",
    "Constraint c2 = solver.MakeConstraint(0, Weight_Max);\n",
    "c2.SetCoefficient(Al, 1);\n",
    "c2.SetCoefficient(Cu, 1);\n",
    "\n",
    "SolveAndPrint(solver);"
   ]
  },
  {
   "cell_type": "markdown",
   "metadata": {},
   "source": [
    "\n",
    "### Q1: Which limit is the most restrictive? \n",
    "\n",
    "Try changing the limits of the constraints to find which constraints are the most restrictive. You could also calculate the added value to the objective function of 1 unit of the contraint. It is also possible to get this information out of the dual formulation of the solved linear program. \n",
    "\n",
    "You can lookup up the solution's dual value and reduced cost for each variable. "
   ]
  },
  {
   "cell_type": "code",
   "execution_count": 4,
   "metadata": {},
   "outputs": [],
   "source": [
    "//Find which constraints are the most restrictive"
   ]
  },
  {
   "cell_type": "markdown",
   "metadata": {},
   "source": [
    "\n",
    "### Q2: How does the problem change if we have a 2% mass loss when making Copper wire? \n",
    "\n",
    "A1: We can either add a new variable for the finished Copper wire and an equation $Cu_{out}=0.98Cu_{in}$ and then that variable in the objective function. \n",
    "\n",
    "$$\\text{Obj:}  \\max ( Al * (Al_{Sale} - Al_{Purchase}) + (Cu_{out} * Cu_{Sale}) - (Cu_{in} *Cu_{Purchase}) - El_{Purchase} (\\frac{1}{100} * Al + \\frac{4}{1000} * Cu) - La_{Purchase}(\\frac{1}{2} * Al + 1 * Cu) )$$\n",
    "\n",
    "$$st: \\qquad Cu_{out}=0.98 * Cu_{in}$$\n",
    "\n",
    "A2: Because nothing apart from the objective function depends on the output, we can simply adapt the objective function by multiplying the copper variable in the objective function by 0.98 prior to multiplying it by the value of the finished copper wire. \n",
    "\n",
    "$$\\text{Obj:}  \\max ( Al * (Al_{Sale} - Al_{Purchase}) + Cu * (0.98 * Cu_{Sale} - Cu_{Purchase}) - El_{Purchase} (\\frac{1}{100} * Al + \\frac{4}{1000} * Cu) - La_{Purchase}(\\frac{1}{2} * Al + 1 * Cu) )$$"
   ]
  },
  {
   "cell_type": "code",
   "execution_count": 5,
   "metadata": {},
   "outputs": [],
   "source": [
    "//Modify the objective function"
   ]
  },
  {
   "cell_type": "markdown",
   "metadata": {},
   "source": [
    "### Q3: How does the problem change if the labor is now a take or pay contract? I.e. we Must now pay for the 42.5 hours irrespective of if we use them fully or not? \n",
    "A: We still keep the equation limiting labour, but now in the objective function, the price per hour of labor and the hours worked are both constants, so they can be directly multiplied and left as a constant.  \n",
    "\n",
    "$$Obj: \\max ( Al * (Al_{Sale} - Al_{Purchase}) + Cu * (Cu_{Sale} - Cu_{Purchase}) - El_{Purchase} (\\frac{1}{100} * Al + \\frac{4}{1000} * Cu) - La_{Purchase} * 42.5 ) $$ \n",
    "\n",
    "Alternatively, we can simply remove it from the objective function since it is constant anyways, but then you have to remember to substract it afterwards to get the profit. "
   ]
  },
  {
   "cell_type": "code",
   "execution_count": 6,
   "metadata": {},
   "outputs": [],
   "source": [
    "//Modify the objective problem"
   ]
  },
  {
   "cell_type": "markdown",
   "metadata": {},
   "source": [
    "### Answers \n",
    "<details>\n",
    "<summary>A1: Which limit is the most restrictive? </summary>\n",
    "The weight limit is the largest constraint limiting the optimal value (+30.86 in objective value for one unit of weight more), followed by the electricity limit (+0.66 for one unit of electricity). \n",
    "</details>"
   ]
  }
 ],
 "metadata": {
  "kernelspec": {
   "display_name": ".NET (C#)",
   "language": "C#",
   "name": ".net-csharp"
  },
  "language_info": {
   "file_extension": ".cs",
   "mimetype": "text/x-csharp",
   "name": "C#",
   "pygments_lexer": "csharp",
   "version": "8.0"
  }
 },
 "nbformat": 4,
 "nbformat_minor": 2
}
