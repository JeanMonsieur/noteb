{
 "cells": [
  {
   "cell_type": "code",
   "execution_count": 3,
   "metadata": {},
   "outputs": [
    {
     "data": {
      "text/html": [
       "Installing package Newtonsoft.Json..done!"
      ]
     },
     "metadata": {},
     "output_type": "display_data"
    },
    {
     "data": {
      "text/html": [
       "Successfully added reference to package Newtonsoft.Json, version 12.0.2"
      ]
     },
     "metadata": {},
     "output_type": "display_data"
    }
   ],
   "source": [
    "#r \"nuget:Newtonsoft.Json\"\n",
    "\n",
    "using Newtonsoft.Json;\n",
    "using System.Runtime.Serialization;\n",
    "using System.Collections.Generic;\n",
    "using System.Collections.ObjectModel;\n",
    "using System.IO;\n",
    "using System.Text;"
   ]
  },
  {
   "cell_type": "code",
   "execution_count": 7,
   "metadata": {},
   "outputs": [
    {
     "name": "stdout",
     "output_type": "stream",
     "text": [
      "{\"Name\":\"ddd\",\"Value\":5,\"Weight\":54.2}\n",
      "[{\"Name\":\"ddd\",\"Value\":5,\"Weight\":54.2}]\n",
      "Name: ddd\n",
      "\tValue: 5\n",
      "\tWeight: 54.2\n",
      "\n"
     ]
    }
   ],
   "source": [
    "public class Item \n",
    "{\n",
    "    \n",
    "    public string Name {get;set;}\n",
    "    public int Value {get;set;}\n",
    "    public double Weight {get;set;}\n",
    "    [IgnoreDataMember]\n",
    "    public ItemCollection Parent {get;set;}\n",
    "    \n",
    "    public override string ToString()\n",
    "    {\n",
    "        return $\"Name: {Name}\\n\\tValue: {Value}\\n\\tWeight: {Weight}\\n\";\n",
    "    }\n",
    "}\n",
    "\n",
    "public class ItemCollection : KeyedCollection<string, Item>\n",
    "{\n",
    "    protected override string GetKeyForItem(Item item) { return item.Name; }\n",
    "}\n",
    "\n",
    "//Schema AddConstraints\n",
    "Newtonsoft.Json.JsonSerializer s = new Newtonsoft.Json.JsonSerializer() { \n",
    "    Formatting = Newtonsoft.Json.Formatting.Indented,\n",
    "    DefaultValueHandling = Newtonsoft.Json.DefaultValueHandling.Ignore,\n",
    "    TypeNameHandling = Newtonsoft.Json.TypeNameHandling.None, \n",
    "    PreserveReferencesHandling = PreserveReferencesHandling.Objects\n",
    "};\n",
    "\n",
    "\n",
    "var first = new Item() {Name = \"ddd\", Value = 5, Weight = 54.2}; \n",
    "\n",
    "string incomingJson = String.Empty;\n",
    "using (MemoryStream ms = new MemoryStream())\n",
    "{\n",
    "    using (StreamWriter sw = new StreamWriter(ms))\n",
    "    {\n",
    "        s.Serialize(sw, first);\n",
    "        sw.Flush();\n",
    "        ms.Position = 0;\n",
    "        using (StreamReader sr = new StreamReader(ms))\n",
    "        {\n",
    "            incomingJson = sr.ReadToEnd();\n",
    "            Console.WriteLine(incomingJson);\n",
    "        }\n",
    "    }\n",
    "}\n",
    "\n",
    "var Col = new ItemCollection(); \n",
    "Col.Add(first);\n",
    "\n",
    "using (MemoryStream ms = new MemoryStream())\n",
    "{\n",
    "    using (StreamWriter sw = new StreamWriter(ms))\n",
    "    {\n",
    "        s.Serialize(sw, Col);\n",
    "        sw.Flush();\n",
    "        ms.Position = 0;\n",
    "        using (StreamReader sr = new StreamReader(ms))\n",
    "        {\n",
    "            incomingJson = sr.ReadToEnd();\n",
    "            Console.WriteLine(incomingJson);\n",
    "        }\n",
    "    }\n",
    "}\n",
    "\n",
    "\n",
    "var ColDes =  JsonConvert.DeserializeObject<ItemCollection>(incomingJson);\n",
    "\n",
    "Console.WriteLine(ColDes[\"ddd\"].ToString());"
   ]
  },
  {
   "cell_type": "code",
   "execution_count": null,
   "metadata": {},
   "outputs": [],
   "source": []
  }
 ],
 "metadata": {
  "kernelspec": {
   "display_name": ".NET (C#)",
   "language": "C#",
   "name": ".net-csharp"
  },
  "language_info": {
   "file_extension": ".cs",
   "mimetype": "text/x-csharp",
   "name": "C#",
   "pygments_lexer": "csharp",
   "version": "8.0"
  }
 },
 "nbformat": 4,
 "nbformat_minor": 2
}
