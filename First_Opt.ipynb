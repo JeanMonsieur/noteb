{
 "cells": [
  {
   "cell_type": "code",
   "execution_count": null,
   "metadata": {},
   "outputs": [],
   "source": [
    "#r \"nuget:Google.OrTools\"\n",
    "\n",
    "using Google.OrTools.LinearSolver;"
   ]
  },
  {
   "cell_type": "markdown",
   "metadata": {},
   "source": [
    "# Simplest linear problem\n",
    "The simplest linear problem to maximize is defined below. The LaTex code\n",
    "\n",
    "```\n",
    "$$\n",
    "\\begin{aligned}\n",
    "\\max (2y+x) \\\\\n",
    "\\text{subject to:} \\\\\n",
    "\\qquad x \\leq 15 \\\\\n",
    "\\qquad y \\leq 8 \n",
    "\\end{aligned}\n",
    "$$\n",
    "```\n",
    "renders to the equation below"
   ]
  },
  {
   "cell_type": "markdown",
   "metadata": {},
   "source": [
    "$$\n",
    "\\begin{aligned}\n",
    "\\max (2y+x) \\\\\n",
    "\\text{subject to:} \\\\\n",
    "\\qquad x \\leq 15 \\\\\n",
    "\\qquad y \\leq 8 \n",
    "\\end{aligned}\n",
    "$$"
   ]
  },
  {
   "cell_type": "code",
   "execution_count": null,
   "metadata": {},
   "outputs": [],
   "source": [
    "Solver solver = Solver.CreateSolver(\"LinearProgramming\", \"CLP_LINEAR_PROGRAMMING\");\n",
    "Variable x = solver.MakeNumVar(0.0, double.PositiveInfinity, \"x\");\n",
    "Variable y = solver.MakeNumVar(0.0, double.PositiveInfinity, \"y\");\n",
    "\n",
    "// Maximize 2*y+x.\n",
    "Objective objective = solver.Objective();\n",
    "objective.SetCoefficient(x, 1);\n",
    "objective.SetCoefficient(y, 2);\n",
    "objective.SetMaximization();\n",
    "\n",
    "// 0 <= x <= 15 \n",
    "Constraint c0 = solver.MakeConstraint(0, 15);\n",
    "c0.SetCoefficient(x, 1);\n",
    "\n",
    "// 0 <= y <= 8\n",
    "Constraint c1 = solver.MakeConstraint(0, 8);\n",
    "c1.SetCoefficient(y, 1);\n",
    "var resultStatus = solver.Solve();\n",
    "\n",
    "// Check that the problem has an optimal solution.\n",
    "if (resultStatus != Solver.ResultStatus.OPTIMAL)\n",
    "{\n",
    "    Console.WriteLine(\"The problem does not have an optimal solution!\");\n",
    "    return;\n",
    "}\n",
    "Console.WriteLine(\"Optimal objective value = \" + solver.Objective().Value());\n",
    "\n",
    "// The value of each variable in the solution.\n",
    "foreach (var v in solver.variables())\n",
    "{ Console.WriteLine($\"{v.Name()} : {v.SolutionValue()} \"); };\n",
    "\n",
    "return solver.Objective().Value();"
   ]
  },
  {
   "cell_type": "code",
   "execution_count": null,
   "metadata": {},
   "outputs": [],
   "source": [
    "string s = @\"<table>\n",
    "<tr>\n",
    "<th>Header 1</th>\n",
    "<th>Header 2</th>\n",
    "</tr>\n",
    "<tr>\n",
    "<td>row 1, cell 1</td>\n",
    "<td>row 1, cell 2</td>\n",
    "</tr>\n",
    "<tr>\n",
    "<td>row 2, cell 1</td>\n",
    "<td>row 2, cell 2</td>\n",
    "</tr>\n",
    "</table>\";"
   ]
  },
  {
   "cell_type": "code",
   "execution_count": null,
   "metadata": {},
   "outputs": [],
   "source": [
    "display(HTML(s));"
   ]
  },
  {
   "cell_type": "code",
   "execution_count": null,
   "metadata": {},
   "outputs": [],
   "source": [
    "string svg1 = @\"<svg height=\"\"250\"\" width=\"\"500\"\"><polygon points=\"\"220,10 300,210 170,250 123,234\"\" \n",
    "                 style=\"\"fill:lime;stroke:purple;stroke-width:1\"\" /></svg>\";"
   ]
  },
  {
   "cell_type": "code",
   "execution_count": null,
   "metadata": {
    "scrolled": false
   },
   "outputs": [],
   "source": [
    "display(HTML(svg1));"
   ]
  },
  {
   "cell_type": "code",
   "execution_count": null,
   "metadata": {},
   "outputs": [],
   "source": [
    "string bar1 = @\"<svg class=\"\"chart\"\" width=\"\"420\"\" height=\"\"150\"\" aria-labelledby=\"\"title desc\"\" role=\"\"img\"\">\n",
    "  <title id=\"\"title\"\">A bar chart showing information</title>\n",
    "  <desc id=\"\"desc\"\">4 apples; 8 bananas; 15 kiwis; 16 oranges; 23 lemons</desc>\n",
    "  <g class=\"\"bar\"\">\n",
    "    <rect width=\"\"40\"\" height=\"\"19\"\"></rect>\n",
    "    <text x=\"\"45\"\" y=\"\"9.5\"\" dy=\"\".35em\"\">4 apples</text>\n",
    "  </g>\n",
    "  <g class=\"\"bar\"\">\n",
    "    <rect width=\"\"80\"\" height=\"\"19\"\" y=\"\"20\"\"></rect>\n",
    "    <text x=\"\"85\"\" y=\"\"28\"\" dy=\"\".35em\"\">8 bananas</text>\n",
    "  </g>\n",
    "  <g class=\"\"bar\"\">\n",
    "    <rect width=\"\"150\"\" height=\"\"19\"\" y=\"\"40\"\"></rect>\n",
    "    <text x=\"\"150\"\" y=\"\"48\"\" dy=\"\".35em\"\">15 kiwis</text>\n",
    "  </g>\n",
    "  <g class=\"\"bar\"\" style=\"\"fill: orange\"\">\n",
    "    <rect width=\"\"160\"\" height=\"\"19\"\" y=\"\"60\"\"></rect>\n",
    "    <text x=\"\"161\"\" y=\"\"68\"\" dy=\"\".35em\"\">16 oranges</text>\n",
    "  </g>\n",
    "  <g class=\"\"bar\"\">\n",
    "    <rect width=\"\"230\"\" height=\"\"19\"\" y=\"\"80\"\"></rect>\n",
    "    <text x=\"\"235\"\" y=\"\"88\"\" dy=\"\".35em\"\">23 lemons</text>\n",
    "  </g>\n",
    "</svg>\";"
   ]
  },
  {
   "cell_type": "code",
   "execution_count": null,
   "metadata": {},
   "outputs": [],
   "source": [
    "display(HTML(bar1));"
   ]
  },
  {
   "cell_type": "code",
   "execution_count": null,
   "metadata": {},
   "outputs": [],
   "source": [
    "%lsmagic"
   ]
  },
  {
   "cell_type": "code",
   "execution_count": null,
   "metadata": {},
   "outputs": [],
   "source": [
    "%%html\n",
    "<style>\n",
    ".bar {\n",
    "  fill: red; /* changes the background */\n",
    "  height: 21px;\n",
    "  transition: fill .3s ease;\n",
    "  cursor: pointer;\n",
    "  font-family: Helvetica, sans-serif;\n",
    "}\n",
    ".bar text {\n",
    "  color: black;\n",
    "}\n",
    ".bar:hover,\n",
    ".bar:focus {\n",
    "  fill: black;\n",
    "}\n",
    ".bar:hover text,\n",
    ".bar:focus text {\n",
    "  fill: red;\n",
    "}\n",
    "</style>"
   ]
  },
  {
   "cell_type": "code",
   "execution_count": null,
   "metadata": {},
   "outputs": [],
   "source": [
    "%%javascript\n",
    "alert(\"hello\")"
   ]
  },
  {
   "cell_type": "code",
   "execution_count": null,
   "metadata": {
    "scrolled": false
   },
   "outputs": [],
   "source": [
    "%%time\n",
    "using (var httpClient = new System.Net.Http.HttpClient())\n",
    "{\n",
    "    var json = await httpClient.GetStringAsync(\"https://swapi.co/api/people/1/\");\n",
    "    display(json);\n",
    "};"
   ]
  },
  {
   "cell_type": "code",
   "execution_count": null,
   "metadata": {},
   "outputs": [],
   "source": [
    "#r \"nuget:System.Text.Json\"\n",
    "\n",
    "using System.Text.Json;\n",
    "using System.Text.Json.Serialization;"
   ]
  },
  {
   "cell_type": "code",
   "execution_count": null,
   "metadata": {},
   "outputs": [],
   "source": [
    "using (var httpClient = new System.Net.Http.HttpClient())\n",
    "{\n",
    "    using var json = await System.Text.JsonDocument.ParseAsync(httpClient.GetStreamAsync(\"https://api.exchangeratesapi.io/latest?base=USD\"));\n",
    "    var EURexch = json.RootElement.GetProperty(\"EUR\"); \n",
    "    display(EURexch);\n",
    "};"
   ]
  },
  {
   "cell_type": "code",
   "execution_count": null,
   "metadata": {},
   "outputs": [],
   "source": [
    "%%fsharp\n",
    "let main argv =\n",
    "    display \"Hello World from F#!\"\n",
    "    0 \n",
    "main()"
   ]
  },
  {
   "cell_type": "code",
   "execution_count": null,
   "metadata": {},
   "outputs": [],
   "source": [
    "%whos"
   ]
  },
  {
   "cell_type": "code",
   "execution_count": null,
   "metadata": {},
   "outputs": [],
   "source": [
    "int x = 4; \n",
    "var a = new { Hello = \"world\"};"
   ]
  },
  {
   "cell_type": "code",
   "execution_count": null,
   "metadata": {},
   "outputs": [],
   "source": []
  },
  {
   "cell_type": "code",
   "execution_count": null,
   "metadata": {},
   "outputs": [],
   "source": [
    "#r \"nuget:PlotNET\"\n",
    "using PlotNET;"
   ]
  },
  {
   "cell_type": "code",
   "execution_count": null,
   "metadata": {},
   "outputs": [],
   "source": [
    "var plotter = new Plotter();\n",
    "plotter.Plot(\n",
    "  new [] { \"giraffes\", \"orangutans\", \"monkeys\" },\n",
    "  new [] { 20, 14, 23 },\n",
    "  \"Animals\", ChartType.Bar);"
   ]
  },
  {
   "cell_type": "code",
   "execution_count": null,
   "metadata": {},
   "outputs": [],
   "source": [
    "display(plotter);"
   ]
  },
  {
   "cell_type": "code",
   "execution_count": null,
   "metadata": {},
   "outputs": [],
   "source": [
    "%whos"
   ]
  },
  {
   "cell_type": "code",
   "execution_count": null,
   "metadata": {},
   "outputs": [],
   "source": [
    "%%fsharp\n",
    "\n",
    "#r \"nuget:XPlot.Plotly\"\n",
    "#r \"nuget:XPlot.GoogleCharts\"\n",
    "open XPlot.GoogleCharts\n",
    "\n",
    "let Bolivia = [\"2004/05\", 165.; \"2005/06\", 135.; \"2006/07\", 157.; \"2007/08\", 139.; \"2008/09\", 136.]\n",
    "let Ecuador = [\"2004/05\", 938.; \"2005/06\", 1120.; \"2006/07\", 1167.; \"2007/08\", 1110.; \"2008/09\", 691.]\n",
    "let Madagascar = [\"2004/05\", 522.; \"2005/06\", 599.; \"2006/07\", 587.; \"2007/08\", 615.; \"2008/09\", 629.]\n",
    "let Average = [\"2004/05\", 614.6; \"2005/06\", 682.; \"2006/07\", 623.; \"2007/08\", 609.4; \"2008/09\", 569.6]\n",
    "\n",
    "let series = [ \"bars\"; \"bars\"; \"bars\"; \"lines\" ]\n",
    "let inputs = [ Bolivia; Ecuador; Madagascar; Average ]\n",
    "\n",
    "display(inputs\n",
    "|> Chart.Combo\n",
    "|> Chart.WithOptions \n",
    "     (Options(title = \"Coffee Production\", \n",
    "              series = [| for typ in series -> Series(typ) |]))\n",
    "|> Chart.WithLabels [\"Bolivia\"; \"Ecuador\"; \"Madagascar\"; \"Average\"]\n",
    "|> Chart.WithLegend true\n",
    "|> Chart.WithSize (600, 250))"
   ]
  },
  {
   "cell_type": "code",
   "execution_count": null,
   "metadata": {},
   "outputs": [],
   "source": [
    "%%fsharp \n",
    "\n",
    "display(inputs\n",
    "|> Chart.Combo\n",
    "|> Chart.WithOptions \n",
    "     (Options(title = \"Coffee Production\", \n",
    "              series = [| for typ in series -> Series(typ) |]))\n",
    "|> Chart.WithLabels [\"Bolivia\"; \"Ecuador\"; \"Madagascar\"; \"Average\"]\n",
    "|> Chart.WithLegend true\n",
    "|> Chart.WithSize (600, 250))"
   ]
  },
  {
   "cell_type": "code",
   "execution_count": null,
   "metadata": {},
   "outputs": [],
   "source": [
    "//Install XPlot package\n",
    "#r \"nuget:XPlot.Plotly\"\n",
    "//Install Daany.DataFrame \n",
    "#r \"nuget:Daany.DataFrame\"\n",
    "#r \"nuget:Daany.DataFrame.Ext\"\n",
    "\n",
    "//Plotting functionalities\n",
    "using XPlot.Plotly;\n",
    "//Daany data frame\n",
    "using Daany;\n",
    "using Daany.Ext;\n",
    "\n",
    "var chart = Chart.Plot(\n",
    "    new Graph.Scatter()\n",
    "    {\n",
    "        x = df[\"SepalArea\"],\n",
    "        y = df[\"PetalArea\"],\n",
    "        mode = \"markers\",\n",
    "        marker = new Graph.Marker()\n",
    "        {\n",
    "            color = df[\"flower_type\"].Select(x=>x.ToString()==\"Iris-virginica\"?1:(x.ToString()==\"Iris-versicolor\"?2:3)),\n",
    "            colorscale = \"Jet\"\n",
    "        }\n",
    "    }\n",
    ");\n",
    "\n",
    "var layout = new Layout.Layout(){title=\"Plot Sepal vs. Petal Area & color scale on flower type\"};\n",
    "chart.WithLayout(layout);\n",
    "chart.WithLegend(true);\n",
    "chart.WithLabels(new string[3]{\"Iris-virginica\",\"Iris-versicolor\", \"Iris-setosa\"});\n",
    "chart.WithXTitle(\"Sepal Area\");\n",
    "chart.WithYTitle(\"Petal Area\");\n",
    "chart.Width = 800;\n",
    "chart.Height = 400;\n",
    "\n",
    "display(chart);"
   ]
  },
  {
   "cell_type": "code",
   "execution_count": null,
   "metadata": {},
   "outputs": [],
   "source": [
    "#r \"nuget:Microsoft.Data.Analysis\"\n",
    "using Microsoft.Data.Analysis;"
   ]
  },
  {
   "cell_type": "code",
   "execution_count": null,
   "metadata": {},
   "outputs": [],
   "source": [
    "var housingData = new DataFrame(); \n",
    "housingData.Columns.Add(new DataFrameColumn(\"A\"));\n",
    "housingData"
   ]
  },
  {
   "cell_type": "code",
   "execution_count": 3,
   "metadata": {},
   "outputs": [
    {
     "data": {
      "text/html": [
       "Installing package XPlot.Plotly, version 2.0.0..done!"
      ]
     },
     "metadata": {},
     "output_type": "display_data"
    },
    {
     "data": {
      "text/html": [
       "Successfully added reference to package XPlot.Plotly, version 2.0.0"
      ]
     },
     "metadata": {},
     "output_type": "display_data"
    }
   ],
   "source": [
    "//Install XPlot package\n",
    "#r \"nuget:XPlot.Plotly,2.0.0\"\n",
    "using XPlot.Plotly;"
   ]
  },
  {
   "cell_type": "code",
   "execution_count": 5,
   "metadata": {},
   "outputs": [
    {
     "data": {
      "text/html": [
       "<div id=\"11e10ac9-3c91-4cbd-aa1b-ba5e923175fa\" style=\"width: 700px; height: 400px;\"></div><script type=\"text/javascript\">\r\n",
       "\r\n",
       "var renderPlotly = function() {\r\n",
       "    var xplotRequire = requirejs.config({context:'xplot-2.0.0',paths:{plotly:'https://cdn.plot.ly/plotly-1.49.2.min'}});\r\n",
       "    xplotRequire(['plotly'], function(Plotly) {\r\n",
       "\n",
       "            var data = [{\"type\":\"bar\",\"x\":[0,1,2],\"y\":[3.4,12.3,20.42],\"name\":\"Actual\"},{\"type\":\"bar\",\"x\":[0,1,2],\"y\":[7.4,14.3,18.42],\"name\":\"Predicted\"}];\n",
       "            var layout = {\"title\":\"Actual fares vs. Predicted fares Comparison\",\"showlegend\":true,\"xaxis\":{\"title\":\"Cases\",\"_isSubplotObj\":true},\"yaxis\":{\"title\":\"Fare\",\"_isSubplotObj\":true},\"barmode\":\"group\"};\n",
       "            Plotly.newPlot('11e10ac9-3c91-4cbd-aa1b-ba5e923175fa', data, layout);\n",
       "        });\r\n",
       "};\r\n",
       "if ((typeof(requirejs) !==  typeof(Function)) || (typeof(requirejs.config) !== typeof(Function))) { \r\n",
       "    var script = document.createElement(\"script\"); \r\n",
       "    script.setAttribute(\"src\", \"https://cdnjs.cloudflare.com/ajax/libs/require.js/2.3.6/require.min.js\"); \r\n",
       "    script.onload = function(){\r\n",
       "        renderPlotly();\r\n",
       "    };\r\n",
       "    document.getElementsByTagName(\"head\")[0].appendChild(script); \r\n",
       "}\r\n",
       "else {\r\n",
       "    renderPlotly();\r\n",
       "}\r\n",
       "</script>"
      ]
     },
     "metadata": {},
     "output_type": "display_data"
    }
   ],
   "source": [
    "int totalNumberForBarChart = 3;\n",
    " \n",
    "double[] actualFares = new [] {3.4, 12.3, 20.42};\n",
    "double[] predictionFares = new [] {7.4, 14.3, 18.42};\n",
    "int[] elements = Enumerable.Range(0, totalNumberForBarChart).ToArray();\n",
    " \n",
    "// Define group for Actual values\n",
    "var ActualValuesGroupBarGraph = new Graph.Bar()\n",
    "{\n",
    "   x = elements,\n",
    "   y = actualFares,\n",
    "   name = \"Actual\"\n",
    "};\n",
    " \n",
    "// Define group for Prediction values\n",
    "var PredictionValuesGroupBarGraph = new Graph.Bar()\n",
    "{\n",
    "   x = elements,\n",
    "   y = predictionFares,\n",
    "   name = \"Predicted\"\n",
    "};\n",
    " \n",
    "var chart = Chart.Plot(new[] {ActualValuesGroupBarGraph, PredictionValuesGroupBarGraph});\n",
    "var layout = new Layout.Layout(){barmode = \"group\", title=\"Actual fares vs. Predicted fares Comparison\"};\n",
    "chart.WithLayout(layout);\n",
    "chart.WithXTitle(\"Cases\");\n",
    "chart.WithYTitle(\"Fare\");\n",
    "chart.WithLegend(true);\n",
    "chart.Width = 700;\n",
    "chart.Height = 400;\n",
    " \n",
    "display(chart);"
   ]
  },
  {
   "cell_type": "code",
   "execution_count": 7,
   "metadata": {},
   "outputs": [
    {
     "data": {
      "text/html": [
       "<div id=\"dc9e81ec-6e46-4853-833b-d8310423f7f3\" style=\"width: 900px; height: 500px;\"></div><script type=\"text/javascript\">\r\n",
       "\r\n",
       "var renderPlotly = function() {\r\n",
       "    var xplotRequire = requirejs.config({context:'xplot-2.0.0',paths:{plotly:'https://cdn.plot.ly/plotly-1.49.2.min'}});\r\n",
       "    xplotRequire(['plotly'], function(Plotly) {\r\n",
       "\n",
       "            var data = [{\"type\":\"histogram\",\"x\":[7.4,14.3,18.42],\"autobinx\":false,\"nbinsx\":20}];\n",
       "            var layout = {\"title\":\"Distribution of taxi trips per cost\"};\n",
       "            Plotly.newPlot('dc9e81ec-6e46-4853-833b-d8310423f7f3', data, layout);\n",
       "        });\r\n",
       "};\r\n",
       "if ((typeof(requirejs) !==  typeof(Function)) || (typeof(requirejs.config) !== typeof(Function))) { \r\n",
       "    var script = document.createElement(\"script\"); \r\n",
       "    script.setAttribute(\"src\", \"https://cdnjs.cloudflare.com/ajax/libs/require.js/2.3.6/require.min.js\"); \r\n",
       "    script.onload = function(){\r\n",
       "        renderPlotly();\r\n",
       "    };\r\n",
       "    document.getElementsByTagName(\"head\")[0].appendChild(script); \r\n",
       "}\r\n",
       "else {\r\n",
       "    renderPlotly();\r\n",
       "}\r\n",
       "</script>"
      ]
     },
     "metadata": {},
     "output_type": "display_data"
    }
   ],
   "source": [
    "var faresHistogram = Chart.Plot(new Graph.Histogram(){x = predictionFares, autobinx = false, nbinsx = 20});\n",
    "var layout = new Layout.Layout(){title=\"Distribution of taxi trips per cost\"};\n",
    "faresHistogram.WithLayout(layout);\n",
    "\n",
    "display(faresHistogram);"
   ]
  },
  {
   "cell_type": "code",
   "execution_count": 8,
   "metadata": {},
   "outputs": [
    {
     "data": {
      "text/html": [
       "<div id=\"6a97fcc9-5a7b-47bc-b626-71eda033d93b\" style=\"width: 500px; height: 500px;\"></div><script type=\"text/javascript\">\r\n",
       "\r\n",
       "var renderPlotly = function() {\r\n",
       "    var xplotRequire = requirejs.config({context:'xplot-2.0.0',paths:{plotly:'https://cdn.plot.ly/plotly-1.49.2.min'}});\r\n",
       "    xplotRequire(['plotly'], function(Plotly) {\r\n",
       "\n",
       "            var data = [{\"type\":\"scatter\",\"x\":[3.4,12.3,20.42],\"y\":[7.4,14.3,18.42],\"mode\":\"markers\",\"marker\":{\"color\":[7.4,14.3,18.42],\"colorscale\":\"Jet\"}}];\n",
       "            var layout = {\"title\":\"Plot Time vs. Distance & color scale on Fares\",\"showlegend\":true};\n",
       "            Plotly.newPlot('6a97fcc9-5a7b-47bc-b626-71eda033d93b', data, layout);\n",
       "        });\r\n",
       "};\r\n",
       "if ((typeof(requirejs) !==  typeof(Function)) || (typeof(requirejs.config) !== typeof(Function))) { \r\n",
       "    var script = document.createElement(\"script\"); \r\n",
       "    script.setAttribute(\"src\", \"https://cdnjs.cloudflare.com/ajax/libs/require.js/2.3.6/require.min.js\"); \r\n",
       "    script.onload = function(){\r\n",
       "        renderPlotly();\r\n",
       "    };\r\n",
       "    document.getElementsByTagName(\"head\")[0].appendChild(script); \r\n",
       "}\r\n",
       "else {\r\n",
       "    renderPlotly();\r\n",
       "}\r\n",
       "</script>"
      ]
     },
     "metadata": {},
     "output_type": "display_data"
    }
   ],
   "source": [
    "var chart = Chart.Plot(\n",
    "    new Graph.Scatter()\n",
    "    {\n",
    "        x = actualFares,\n",
    "        y = predictionFares,\n",
    "        mode = \"markers\",\n",
    "        marker = new Graph.Marker()\n",
    "        {\n",
    "            color = predictionFares,\n",
    "            colorscale = \"Jet\"\n",
    "        }\n",
    "    }\n",
    ");\n",
    "\n",
    "var layout = new Layout.Layout(){title=\"Plot Time vs. Distance & color scale on Fares\"};\n",
    "chart.WithLayout(layout);\n",
    "chart.Width = 500;\n",
    "chart.Height = 500;\n",
    "chart.WithLegend(true);\n",
    "\n",
    "display(chart);"
   ]
  },
  {
   "cell_type": "code",
   "execution_count": 9,
   "metadata": {},
   "outputs": [
    {
     "data": {
      "text/html": [
       "<div id=\"c1954a93-1c7e-44c9-a237-5fe345487df5\" style=\"width: 600px; height: 600px;\"></div><script type=\"text/javascript\">\r\n",
       "\r\n",
       "var renderPlotly = function() {\r\n",
       "    var xplotRequire = requirejs.config({context:'xplot-2.0.0',paths:{plotly:'https://cdn.plot.ly/plotly-1.49.2.min'}});\r\n",
       "    xplotRequire(['plotly'], function(Plotly) {\r\n",
       "\n",
       "            var data = [{\"type\":\"scatter\",\"x\":[3.4,12.3,20.42],\"y\":[7.4,14.3,18.42],\"mode\":\"markers\"},{\"type\":\"scatter\",\"x\":[0.0,20.42],\"y\":[0.0,20.42],\"mode\":\"lines\"}];\n",
       "            var layout = {\"showlegend\":false,\"xaxis\":{\"title\":\"True Values\",\"_isSubplotObj\":true},\"yaxis\":{\"title\":\"Predicted Values\",\"_isSubplotObj\":true}};\n",
       "            Plotly.newPlot('c1954a93-1c7e-44c9-a237-5fe345487df5', data, layout);\n",
       "        });\r\n",
       "};\r\n",
       "if ((typeof(requirejs) !==  typeof(Function)) || (typeof(requirejs.config) !== typeof(Function))) { \r\n",
       "    var script = document.createElement(\"script\"); \r\n",
       "    script.setAttribute(\"src\", \"https://cdnjs.cloudflare.com/ajax/libs/require.js/2.3.6/require.min.js\"); \r\n",
       "    script.onload = function(){\r\n",
       "        renderPlotly();\r\n",
       "    };\r\n",
       "    document.getElementsByTagName(\"head\")[0].appendChild(script); \r\n",
       "}\r\n",
       "else {\r\n",
       "    renderPlotly();\r\n",
       "}\r\n",
       "</script>"
      ]
     },
     "metadata": {},
     "output_type": "display_data"
    }
   ],
   "source": [
    "var predictedVsTrue = new Graph.Scatter()\n",
    "{\n",
    "    x = actualFares,\n",
    "    y = predictionFares,\n",
    "    mode = \"markers\",\n",
    "};\n",
    "\n",
    "var maximumValue = Math.Max(actualFares.Max(), predictionFares.Max());\n",
    "\n",
    "var perfectLine = new Graph.Scatter()\n",
    "{\n",
    "    x = new[] {0, maximumValue},\n",
    "    y = new[] {0, maximumValue},\n",
    "    mode = \"lines\",\n",
    "};\n",
    "\n",
    "var chart = Chart.Plot(new[] {predictedVsTrue, perfectLine });\n",
    "chart.WithXTitle(\"True Values\");\n",
    "chart.WithYTitle(\"Predicted Values\");\n",
    "chart.WithLegend(false);\n",
    "chart.Width = 600;\n",
    "chart.Height = 600;\n",
    "display(chart);"
   ]
  },
  {
   "cell_type": "code",
   "execution_count": null,
   "metadata": {},
   "outputs": [],
   "source": []
  }
 ],
 "metadata": {
  "kernelspec": {
   "display_name": ".NET (C#)",
   "language": "C#",
   "name": ".net-csharp"
  },
  "language_info": {
   "file_extension": ".cs",
   "mimetype": "text/x-csharp",
   "name": "C#",
   "pygments_lexer": "csharp",
   "version": "8.0"
  }
 },
 "nbformat": 4,
 "nbformat_minor": 2
}
