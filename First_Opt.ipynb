{
 "cells": [
  {
   "cell_type": "code",
   "execution_count": null,
   "metadata": {},
   "outputs": [],
   "source": [
    "#r \"nuget:Google.OrTools\"\n",
    "\n",
    "using Google.OrTools.LinearSolver;"
   ]
  },
  {
   "cell_type": "markdown",
   "metadata": {},
   "source": [
    "# Simplest linear problem\n",
    "The simplest linear problem to maximize is defined below. The LaTex code\n",
    "\n",
    "```\n",
    "$$\n",
    "\\begin{aligned}\n",
    "\\max (2y+x) \\\\\n",
    "\\text{subject to:} \\\\\n",
    "\\qquad x \\leq 15 \\\\\n",
    "\\qquad y \\leq 8 \n",
    "\\end{aligned}\n",
    "$$\n",
    "```\n",
    "renders to the equation below"
   ]
  },
  {
   "cell_type": "markdown",
   "metadata": {},
   "source": [
    "$$\n",
    "\\begin{aligned}\n",
    "\\max (2y+x) \\\\\n",
    "\\text{subject to:} \\\\\n",
    "\\qquad x \\leq 15 \\\\\n",
    "\\qquad y \\leq 8 \n",
    "\\end{aligned}\n",
    "$$"
   ]
  },
  {
   "cell_type": "code",
   "execution_count": null,
   "metadata": {},
   "outputs": [],
   "source": [
    "Solver solver = Solver.CreateSolver(\"LinearProgramming\", \"CLP_LINEAR_PROGRAMMING\");\n",
    "Variable x = solver.MakeNumVar(0.0, double.PositiveInfinity, \"x\");\n",
    "Variable y = solver.MakeNumVar(0.0, double.PositiveInfinity, \"y\");\n",
    "\n",
    "// Maximize 2*y+x.\n",
    "Objective objective = solver.Objective();\n",
    "objective.SetCoefficient(x, 1);\n",
    "objective.SetCoefficient(y, 2);\n",
    "objective.SetMaximization();\n",
    "\n",
    "// 0 <= x <= 15 \n",
    "Constraint c0 = solver.MakeConstraint(0, 15);\n",
    "c0.SetCoefficient(x, 1);\n",
    "\n",
    "// 0 <= y <= 8\n",
    "Constraint c1 = solver.MakeConstraint(0, 8);\n",
    "c1.SetCoefficient(y, 1);\n",
    "var resultStatus = solver.Solve();\n",
    "\n",
    "// Check that the problem has an optimal solution.\n",
    "if (resultStatus != Solver.ResultStatus.OPTIMAL)\n",
    "{\n",
    "    Console.WriteLine(\"The problem does not have an optimal solution!\");\n",
    "    return;\n",
    "}\n",
    "Console.WriteLine(\"Optimal objective value = \" + solver.Objective().Value());\n",
    "\n",
    "// The value of each variable in the solution.\n",
    "foreach (var v in solver.variables())\n",
    "{ Console.WriteLine($\"{v.Name()} : {v.SolutionValue()} \"); };\n",
    "\n",
    "return solver.Objective().Value();"
   ]
  },
  {
   "cell_type": "code",
   "execution_count": null,
   "metadata": {},
   "outputs": [],
   "source": [
    "string s = @\"<table>\n",
    "<tr>\n",
    "<th>Header 1</th>\n",
    "<th>Header 2</th>\n",
    "</tr>\n",
    "<tr>\n",
    "<td>row 1, cell 1</td>\n",
    "<td>row 1, cell 2</td>\n",
    "</tr>\n",
    "<tr>\n",
    "<td>row 2, cell 1</td>\n",
    "<td>row 2, cell 2</td>\n",
    "</tr>\n",
    "</table>\";"
   ]
  },
  {
   "cell_type": "code",
   "execution_count": null,
   "metadata": {},
   "outputs": [],
   "source": [
    "display(HTML(s));"
   ]
  },
  {
   "cell_type": "code",
   "execution_count": null,
   "metadata": {},
   "outputs": [],
   "source": [
    "string svg1 = @\"<svg height=\"\"250\"\" width=\"\"500\"\"><polygon points=\"\"220,10 300,210 170,250 123,234\"\" \n",
    "                 style=\"\"fill:lime;stroke:purple;stroke-width:1\"\" /></svg>\";"
   ]
  },
  {
   "cell_type": "code",
   "execution_count": null,
   "metadata": {
    "scrolled": false
   },
   "outputs": [],
   "source": [
    "display(HTML(svg1));"
   ]
  },
  {
   "cell_type": "code",
   "execution_count": null,
   "metadata": {},
   "outputs": [],
   "source": [
    "string bar1 = @\"<svg class=\"\"chart\"\" width=\"\"420\"\" height=\"\"150\"\" aria-labelledby=\"\"title desc\"\" role=\"\"img\"\">\n",
    "  <title id=\"\"title\"\">A bar chart showing information</title>\n",
    "  <desc id=\"\"desc\"\">4 apples; 8 bananas; 15 kiwis; 16 oranges; 23 lemons</desc>\n",
    "  <g class=\"\"bar\"\">\n",
    "    <rect width=\"\"40\"\" height=\"\"19\"\"></rect>\n",
    "    <text x=\"\"45\"\" y=\"\"9.5\"\" dy=\"\".35em\"\">4 apples</text>\n",
    "  </g>\n",
    "  <g class=\"\"bar\"\">\n",
    "    <rect width=\"\"80\"\" height=\"\"19\"\" y=\"\"20\"\"></rect>\n",
    "    <text x=\"\"85\"\" y=\"\"28\"\" dy=\"\".35em\"\">8 bananas</text>\n",
    "  </g>\n",
    "  <g class=\"\"bar\"\">\n",
    "    <rect width=\"\"150\"\" height=\"\"19\"\" y=\"\"40\"\"></rect>\n",
    "    <text x=\"\"150\"\" y=\"\"48\"\" dy=\"\".35em\"\">15 kiwis</text>\n",
    "  </g>\n",
    "  <g class=\"\"bar\"\" style=\"\"fill: orange\"\">\n",
    "    <rect width=\"\"160\"\" height=\"\"19\"\" y=\"\"60\"\"></rect>\n",
    "    <text x=\"\"161\"\" y=\"\"68\"\" dy=\"\".35em\"\">16 oranges</text>\n",
    "  </g>\n",
    "  <g class=\"\"bar\"\">\n",
    "    <rect width=\"\"230\"\" height=\"\"19\"\" y=\"\"80\"\"></rect>\n",
    "    <text x=\"\"235\"\" y=\"\"88\"\" dy=\"\".35em\"\">23 lemons</text>\n",
    "  </g>\n",
    "</svg>\";"
   ]
  },
  {
   "cell_type": "code",
   "execution_count": null,
   "metadata": {},
   "outputs": [],
   "source": [
    "display(HTML(bar1));"
   ]
  },
  {
   "cell_type": "code",
   "execution_count": null,
   "metadata": {},
   "outputs": [],
   "source": [
    "%lsmagic"
   ]
  },
  {
   "cell_type": "code",
   "execution_count": null,
   "metadata": {},
   "outputs": [],
   "source": [
    "%%html\n",
    "<style>\n",
    ".bar {\n",
    "  fill: red; /* changes the background */\n",
    "  height: 21px;\n",
    "  transition: fill .3s ease;\n",
    "  cursor: pointer;\n",
    "  font-family: Helvetica, sans-serif;\n",
    "}\n",
    ".bar text {\n",
    "  color: black;\n",
    "}\n",
    ".bar:hover,\n",
    ".bar:focus {\n",
    "  fill: black;\n",
    "}\n",
    ".bar:hover text,\n",
    ".bar:focus text {\n",
    "  fill: red;\n",
    "}\n",
    "</style>"
   ]
  },
  {
   "cell_type": "code",
   "execution_count": null,
   "metadata": {},
   "outputs": [],
   "source": [
    "%%javascript\n",
    "alert(\"hello\")"
   ]
  },
  {
   "cell_type": "code",
   "execution_count": null,
   "metadata": {
    "scrolled": false
   },
   "outputs": [],
   "source": [
    "%%time\n",
    "using (var httpClient = new System.Net.Http.HttpClient())\n",
    "{\n",
    "    var json = await httpClient.GetStringAsync(\"https://swapi.co/api/people/1/\");\n",
    "    display(json);\n",
    "};"
   ]
  },
  {
   "cell_type": "code",
   "execution_count": null,
   "metadata": {},
   "outputs": [],
   "source": [
    "#r \"nuget:System.Text.Json\"\n",
    "\n",
    "using System.Text.Json;\n",
    "using System.Text.Json.Serialization;"
   ]
  },
  {
   "cell_type": "code",
   "execution_count": null,
   "metadata": {},
   "outputs": [],
   "source": [
    "using (var httpClient = new System.Net.Http.HttpClient())\n",
    "{\n",
    "    using var json = await System.Text.JsonDocument.ParseAsync(httpClient.GetStreamAsync(\"https://api.exchangeratesapi.io/latest?base=USD\"));\n",
    "    var EURexch = json.RootElement.GetProperty(\"EUR\"); \n",
    "    display(EURexch);\n",
    "};"
   ]
  },
  {
   "cell_type": "code",
   "execution_count": 5,
   "metadata": {},
   "outputs": [
    {
     "data": {
      "text/plain": [
       "Hello World from F#!"
      ]
     },
     "metadata": {},
     "output_type": "display_data"
    },
    {
     "data": {
      "text/plain": [
       "0"
      ]
     },
     "execution_count": 5,
     "metadata": {},
     "output_type": "execute_result"
    }
   ],
   "source": [
    "%%fsharp\n",
    "let main argv =\n",
    "    display \"Hello World from F#!\"\n",
    "    0 \n",
    "main()"
   ]
  },
  {
   "cell_type": "code",
   "execution_count": null,
   "metadata": {},
   "outputs": [
    {
     "data": {
      "text/html": [
       "<table><thead><tr><th>Variable</th><th>Type</th><th>Value</th></tr></thead><tbody></tbody></table>"
      ]
     },
     "metadata": {},
     "output_type": "display_data"
    }
   ],
   "source": [
    "%whos"
   ]
  },
  {
   "cell_type": "code",
   "execution_count": null,
   "metadata": {},
   "outputs": [],
   "source": [
    "int x = 4; \n",
    "var a = new { Hello = \"world\"};"
   ]
  },
  {
   "cell_type": "code",
   "execution_count": null,
   "metadata": {},
   "outputs": [],
   "source": []
  },
  {
   "cell_type": "code",
   "execution_count": null,
   "metadata": {},
   "outputs": [],
   "source": []
  }
 ],
 "metadata": {
  "kernelspec": {
   "display_name": ".NET (C#)",
   "language": "C#",
   "name": ".net-csharp"
  },
  "language_info": {
   "file_extension": ".cs",
   "mimetype": "text/x-csharp",
   "name": "C#",
   "pygments_lexer": "csharp",
   "version": "8.0"
  }
 },
 "nbformat": 4,
 "nbformat_minor": 2
}
