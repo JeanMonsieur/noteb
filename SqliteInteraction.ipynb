{
 "cells": [
  {
   "cell_type": "code",
   "execution_count": 1,
   "metadata": {},
   "outputs": [
    {
     "data": {
      "text/html": [
       "Installing package System.Data.SQLite.........................done!"
      ]
     },
     "metadata": {},
     "output_type": "display_data"
    },
    {
     "data": {
      "text/html": [
       "Successfully added reference to package System.Data.SQLite, version 1.0.112.0"
      ]
     },
     "metadata": {},
     "output_type": "display_data"
    }
   ],
   "source": [
    "#r \"nuget:System.Data.SQLite\"\n",
    "using System.Data.SQLite;"
   ]
  },
  {
   "cell_type": "code",
   "execution_count": 2,
   "metadata": {},
   "outputs": [],
   "source": [
    "SQLiteConnection conn;\n",
    "\n",
    "//sqlite_conn = new SQLiteConnection(\"Data Source=database.db;Version=3;New=True;Compress=True;\");\n",
    "conn = new SQLiteConnection(\"Data Source=:memory:;Version=3;New=True;\");\n",
    "\n",
    "try\n",
    "{\n",
    "conn.Open();\n",
    "}\n",
    "catch (Exception ex)\n",
    "{\n",
    " Console.WriteLine(ex); \n",
    "}\n"
   ]
  },
  {
   "cell_type": "code",
   "execution_count": 3,
   "metadata": {},
   "outputs": [],
   "source": [
    "using (SQLiteCommand sqlite_cmd = conn.CreateCommand()) {\n",
    "    string Createsql = \"CREATE TABLE SampleTable(Col1 VARCHAR(20), Col2 INT)\";\n",
    "    string Createsql1 = \"CREATE TABLE SampleTable1(Col1 VARCHAR(20), Col2 INT)\";\n",
    "    sqlite_cmd.CommandText = Createsql;\n",
    "    sqlite_cmd.ExecuteNonQuery();\n",
    "    sqlite_cmd.CommandText = Createsql1;\n",
    "    sqlite_cmd.ExecuteNonQuery();\n",
    "}"
   ]
  },
  {
   "cell_type": "code",
   "execution_count": 4,
   "metadata": {},
   "outputs": [],
   "source": [
    "using (SQLiteCommand sqlite_cmd = conn.CreateCommand()) {\n",
    "    sqlite_cmd.CommandText = \"INSERT INTO SampleTable(Col1, Col2) VALUES ('Test Text ', 1);\";\n",
    "    sqlite_cmd.ExecuteNonQuery();\n",
    "    sqlite_cmd.CommandText = \"INSERT INTO SampleTable(Col1, Col2) VALUES ('Test1 Text1 ', 2);\";\n",
    "    sqlite_cmd.ExecuteNonQuery();\n",
    "    sqlite_cmd.CommandText = \"INSERT INTO SampleTable(Col1, Col2) VALUES ('Test2 Text2 ', 3);\";\n",
    "    sqlite_cmd.ExecuteNonQuery();\n",
    "    sqlite_cmd.CommandText = \"INSERT INTO SampleTable1(Col1, Col2) VALUES ('Test3 Text3 ', 3);\";\n",
    "    sqlite_cmd.ExecuteNonQuery();\n",
    "}"
   ]
  },
  {
   "cell_type": "code",
   "execution_count": 5,
   "metadata": {},
   "outputs": [
    {
     "name": "stdout",
     "output_type": "stream",
     "text": [
      "Test Text \n",
      "Test1 Text1 \n",
      "Test2 Text2 \n"
     ]
    }
   ],
   "source": [
    "using (SQLiteCommand sqlite_cmd = conn.CreateCommand()) {\n",
    "    sqlite_cmd.CommandText = \"SELECT * FROM SampleTable\";\n",
    "\n",
    "    using(var sqlite_datareader = sqlite_cmd.ExecuteReader()){\n",
    "        while (sqlite_datareader.Read())\n",
    "        {\n",
    "        string myreader = sqlite_datareader.GetString(0);\n",
    "        Console.WriteLine(myreader);\n",
    "        }\n",
    "    }\n",
    "}\n"
   ]
  },
  {
   "cell_type": "code",
   "execution_count": 6,
   "metadata": {},
   "outputs": [],
   "source": [
    "conn.Close();"
   ]
  },
  {
   "cell_type": "code",
   "execution_count": null,
   "metadata": {},
   "outputs": [],
   "source": []
  }
 ],
 "metadata": {
  "kernelspec": {
   "display_name": ".NET (C#)",
   "language": "C#",
   "name": ".net-csharp"
  },
  "language_info": {
   "file_extension": ".cs",
   "mimetype": "text/x-csharp",
   "name": "C#",
   "pygments_lexer": "csharp",
   "version": "8.0"
  }
 },
 "nbformat": 4,
 "nbformat_minor": 2
}
